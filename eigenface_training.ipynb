{
 "cells": [
  {
   "cell_type": "code",
   "execution_count": 138,
   "metadata": {},
   "outputs": [],
   "source": [
    "import numpy as np\n",
    "from sklearn.datasets import fetch_olivetti_faces\n",
    "from tqdm import tqdm\n",
    "import matplotlib.pyplot as plt\n",
    "from sklearn.decomposition import PCA\n",
    "import torch\n",
    "import torch.nn as nn\n",
    "import torch.nn.functional as F\n",
    "from utils import torch_gs, grassmann_distance\n",
    "from data import generate_data, generate_batched_data\n",
    "from scipy import linalg\n",
    "import os"
   ]
  },
  {
   "cell_type": "code",
   "execution_count": 139,
   "metadata": {},
   "outputs": [],
   "source": [
    "os.environ['PYTORCH_ENABLE_MPS_FALLBACK'] = \"1\""
   ]
  },
  {
   "cell_type": "code",
   "execution_count": 174,
   "metadata": {},
   "outputs": [],
   "source": [
    "data = torch.from_numpy(fetch_olivetti_faces(data_home=\"./olivetti/\")['data'])"
   ]
  },
  {
   "cell_type": "code",
   "execution_count": 202,
   "metadata": {},
   "outputs": [],
   "source": [
    "n = data.shape[-1]\n",
    "d = 64\n",
    "device=\"mps\"\n",
    "num_epochs = 500"
   ]
  },
  {
   "cell_type": "code",
   "execution_count": 203,
   "metadata": {},
   "outputs": [],
   "source": [
    "data = data.to(device)"
   ]
  },
  {
   "cell_type": "code",
   "execution_count": 177,
   "metadata": {},
   "outputs": [],
   "source": [
    "V = torch.randn((n, d)).to(torch.float32).to(device)\n",
    "W = torch.randn((n, d)).to(torch.float32).to(device)\n",
    "\n",
    "V = torch_gs(V, row_vecs=False, norm=True) * np.sqrt(n)\n",
    "W = torch_gs(W, row_vecs=False, norm=True) * np.sqrt(n)"
   ]
  },
  {
   "cell_type": "code",
   "execution_count": 162,
   "metadata": {},
   "outputs": [],
   "source": [
    "# sigma = torch.diag(torch.ones((d))) * 10\n",
    "# sigma = torch.diag(torch.arange(1, d+1)) / 10.0\n",
    "sigma = (torch.diag(torch.ones((d))) * 10)#.to(device)\n",
    "eta = 1\n",
    "disc_lr = 0.5\n",
    "gen_lr = 0.01"
   ]
  },
  {
   "cell_type": "code",
   "execution_count": 147,
   "metadata": {},
   "outputs": [],
   "source": [
    "pca = PCA(n_components=d)\n",
    "pca.fit(data.cpu().flatten(start_dim=1).numpy())\n",
    "gt_subspace = pca.components_\n",
    "gt_subspace = torch.from_numpy(gt_subspace)"
   ]
  },
  {
   "cell_type": "code",
   "execution_count": 148,
   "metadata": {},
   "outputs": [],
   "source": [
    "def generate_data(U, eta, d, n, sigma, scale=True):\n",
    "    c = sigma @ np.random.randn(d, 1)\n",
    "    c = c.to(torch.float32).to(device)\n",
    "    a = torch.from_numpy(np.random.randn(n, 1) * np.sqrt(eta)).to(torch.float32).to(device)\n",
    "    scale_factor = np.sqrt(n) if scale else 1\n",
    "    y = U @ c / scale_factor + a\n",
    "    return y, c, a\n"
   ]
  },
  {
   "cell_type": "code",
   "execution_count": null,
   "metadata": {},
   "outputs": [],
   "source": [
    "Qs_gan = []\n",
    "ts_gan = []\n",
    "\n",
    "total_count = 0\n",
    "\n",
    "for j in tqdm(range(num_epochs)):\n",
    "    pbar = tqdm(range(data.shape[0]))\n",
    "    for i in pbar:\n",
    "        if total_count % 100 == 0:\n",
    "            g_distance = grassmann_distance(V.detach().cpu().numpy(), gt_subspace.T)\n",
    "            Qs_gan.append(g_distance)\n",
    "            ts_gan.append(total_count)\n",
    "            pbar.set_description(f\"Grassmann distance: {g_distance}\")\n",
    "        y_gen, c_gen, a_gen = generate_data(V, eta, d, n, sigma, scale=True)\n",
    "\n",
    "        img = data[i].unsqueeze(0).T\n",
    "        img = img - torch.mean(img) # Centering data\n",
    "        img = img / torch.norm(img) * np.sqrt(n) # Scaling data properly\n",
    "\n",
    "\n",
    "        d_grad_true = img @ (img.T @ W)\n",
    "        d_grad_gen = -1 * y_gen @ (y_gen.T @ W)\n",
    "\n",
    "        g_w = disc_lr * (d_grad_true + d_grad_gen) / n\n",
    "\n",
    "        gradient = W @ W.T @ y_gen @ c_gen.T\n",
    "        n_g = gen_lr * gradient / (n * np.sqrt(n))\n",
    "\n",
    "        V = V + n_g\n",
    "        W = W + g_w\n",
    "        W = torch_gs(W, row_vecs=False, norm=True) * np.sqrt(n)\n",
    "        V = V / (torch.ones((n, 1)).to(device) * torch.sqrt(torch.sum(V ** 2, axis=0))) * np.sqrt(n)\n",
    "        total_count += 1\n",
    "        if j % 25 == 0 and i == 0:\n",
    "            U, S, Vh = np.linalg.svd(V.detach().cpu().numpy())\n",
    "            top_16 = U.T.reshape(-1, 64, 64)\n",
    "            plt.figure()\n",
    "            for i in range(16):\n",
    "                plt.subplot(4, 4, i+1)\n",
    "                plt.imshow(top_16[i, :, :], cmap=\"gray\")\n",
    "                plt.axis(\"off\")\n",
    "\n",
    "            plt.savefig(f\"eigenfaces_gan_epoch_{j+1}.png\")\n",
    "        # if i % 100 == 0:\n",
    "        #     disc_loss = torch.norm(img.T @ W) - torch.norm(y_gen.T @ W)\n",
    "        #     gen_loss = torch.norm(y_gen.T @ W)\n",
    "        #     pbar.set_description(f\"Loss: {(disc_loss + gen_loss).item()}\")"
   ]
  },
  {
   "cell_type": "code",
   "execution_count": null,
   "metadata": {},
   "outputs": [],
   "source": [
    "U, S, Vh = torch.svd(V)\n",
    "top_16 = U.T.reshape(-1, 64, 64).detach().cpu().numpy()\n",
    "plt.figure()\n",
    "for i in range(16):\n",
    "    plt.subplot(4, 4, i+1)\n",
    "    plt.imshow(top_16[i, :, :], cmap=\"gray\")\n",
    "    plt.axis(\"off\")\n",
    "\n",
    "plt.show()\n",
    "plt.savefig(f\"eigenfaces.png\")"
   ]
  },
  {
   "cell_type": "code",
   "execution_count": null,
   "metadata": {},
   "outputs": [],
   "source": [
    "# Generating images\n",
    "gen_images = []\n",
    "for i in range(16):\n",
    "    y_gen, c_gen, a_gen = generate_data(V, 0, d, n, sigma, scale=True)\n",
    "    gen_images.append(y_gen[:, 0])\n",
    "gen_images = torch.stack(gen_images)\n",
    "gen_images = gen_images.reshape(-1, 64, 64)\n",
    "gen_images = gen_images.detach().cpu().numpy()"
   ]
  },
  {
   "cell_type": "code",
   "execution_count": null,
   "metadata": {},
   "outputs": [],
   "source": [
    "plt.figure()\n",
    "for i in range(16):\n",
    "    plt.subplot(4, 4, i+1)\n",
    "    plt.imshow(gen_images[i, :, :], cmap=\"gray\")\n",
    "    plt.axis(\"off\")\n",
    "\n",
    "plt.show()"
   ]
  },
  {
   "cell_type": "code",
   "execution_count": null,
   "metadata": {},
   "outputs": [],
   "source": [
    "pca = PCA(n_components=d)\n",
    "pca.fit(data.cpu().flatten(start_dim=1).numpy())\n",
    "gt_subspace = pca.components_\n",
    "gt_subspace = torch.from_numpy(gt_subspace)"
   ]
  },
  {
   "cell_type": "code",
   "execution_count": null,
   "metadata": {},
   "outputs": [],
   "source": [
    "V_oja = torch.randn((n, d), device=device).to(torch.float32)\n",
    "V_oja = torch_gs(V_oja)\n",
    "\n",
    "lr = 0.01\n",
    "\n",
    "Qs = []\n",
    "ts = []\n",
    "\n",
    "total_count = 0\n",
    "\n",
    "# gt_subspace = gt_subspace.cpu().numpy()\n",
    "\n",
    "for j in tqdm(range(num_epochs)):\n",
    "    # pbar = tqdm(range(data.shape[0]))\n",
    "    for i in range(data.shape[0]):\n",
    "        if total_count % 1000 == 0:\n",
    "            Qs.append(grassmann_distance(V_oja.cpu().numpy(), gt_subspace.T))\n",
    "            ts.append(total_count)\n",
    "        img = data[i].unsqueeze(0).T#.cpu().numpy()\n",
    "        img = img - torch.mean(img)\n",
    "        img = img / torch.norm(img) * np.sqrt(n)\n",
    "        w = torch.linalg.lstsq(V_oja, img).solution[:, 0]\n",
    "        # w = torch.pinverse(V_oja) @ img\n",
    "        V_oja = torch_gs(V_oja + lr / n * torch.outer(img[:, 0], w))\n",
    "        total_count += 1\n",
    "    \n",
    "    if j % 25 == 0 and i == 0:\n",
    "        U, S, Vh = np.linalg.svd(V_oja)\n",
    "        top_16 = U.T.reshape(-1, 64, 64)\n",
    "        plt.figure()\n",
    "        for i in range(16):\n",
    "            plt.subplot(4, 4, i+1)\n",
    "            plt.imshow(top_16[i, :, :], cmap=\"gray\")\n",
    "            plt.axis(\"off\")\n",
    "\n",
    "        plt.savefig(f\"eigenfaces_oja_epoch_{j+1}.png\")"
   ]
  },
  {
   "cell_type": "code",
   "execution_count": null,
   "metadata": {},
   "outputs": [],
   "source": [
    "U, S, Vh = np.linalg.svd(V_oja)\n",
    "top_16 = U.T.reshape(-1, 64, 64)\n",
    "plt.figure()\n",
    "for i in range(16):\n",
    "    plt.subplot(4, 4, i+1)\n",
    "    plt.imshow(top_16[i, :, :], cmap=\"gray\")\n",
    "    plt.axis(\"off\")\n",
    "\n",
    "plt.show()\n",
    "plt.savefig(f\"eigenfaces_oja.png\")"
   ]
  },
  {
   "cell_type": "code",
   "execution_count": null,
   "metadata": {},
   "outputs": [],
   "source": [
    "V_single = torch.randn((n, d)).to(torch.float32).to(device)\n",
    "W_single = torch.randn((n, 1)).to(torch.float32).to(device)\n",
    "\n",
    "V_single = torch_gs(V_single, row_vecs=False, norm=True) * np.sqrt(n)\n",
    "W_single = torch_gs(W_single, row_vecs=False, norm=True) * np.sqrt(n)\n",
    "\n",
    "Qs_gan_single = []\n",
    "ts_gan_single = []\n",
    "\n",
    "total_count = 0\n",
    "\n",
    "for j in tqdm(range(num_epochs)):\n",
    "    pbar = tqdm(range(data.shape[0]))\n",
    "    for i in pbar:\n",
    "        if total_count % 100 == 0:\n",
    "            g_distance = grassmann_distance(V_single.detach().cpu().numpy(), gt_subspace.T)\n",
    "            Qs_gan_single.append(g_distance)\n",
    "            ts_gan_single.append(total_count)\n",
    "            pbar.set_description(f\"Grassmann distance: {g_distance}\")\n",
    "        y_gen, c_gen, a_gen = generate_data(V_single, eta, d, n, sigma, scale=True)\n",
    "\n",
    "        img = data[i].unsqueeze(0).T\n",
    "        img = img - torch.mean(img) # Centering data\n",
    "        img = img / torch.norm(img) * np.sqrt(n) # Scaling data properly\n",
    "\n",
    "\n",
    "        d_grad_true = img @ (img.T @ W_single)\n",
    "        d_grad_gen = -1 * y_gen @ (y_gen.T @ W_single)\n",
    "\n",
    "        g_w = disc_lr * (d_grad_true + d_grad_gen) / n\n",
    "\n",
    "        gradient = W_single @ W_single.T @ y_gen @ c_gen.T\n",
    "        n_g = gen_lr * gradient / (n * np.sqrt(n))\n",
    "\n",
    "        V_single = V_single + n_g\n",
    "        W_single = W_single + g_w\n",
    "        W_single = torch_gs(W_single, row_vecs=False, norm=True) * np.sqrt(n)\n",
    "        V_single = V_single / (torch.ones((n, 1)).to(device) * torch.sqrt(torch.sum(V_single ** 2, axis=0))) * np.sqrt(n)\n",
    "        total_count += 1\n",
    "        if j % 25 == 0 and i == 0:\n",
    "            U, S, Vh = np.linalg.svd(V_single.detach().cpu().numpy())\n",
    "            top_16 = U.T.reshape(-1, 64, 64)\n",
    "            plt.figure()\n",
    "            for i in range(16):\n",
    "                plt.subplot(4, 4, i+1)\n",
    "                plt.imshow(top_16[i, :, :], cmap=\"gray\")\n",
    "                plt.axis(\"off\")\n",
    "\n",
    "            plt.savefig(f\"eigenfaces_gan_single_epoch_{j+1}.png\")\n",
    "        # if i % 100 == 0:\n",
    "        #     disc_loss = torch.norm(img.T @ W) - torch.norm(y_gen.T @ W)\n",
    "        #     gen_loss = torch.norm(y_gen.T @ W)\n",
    "        #     pbar.set_description(f\"Loss: {(disc_loss + gen_loss).item()}\")"
   ]
  },
  {
   "cell_type": "code",
   "execution_count": 199,
   "metadata": {},
   "outputs": [],
   "source": [
    "np.save(\"oja_ts_2.npy\", ts)\n",
    "np.save(\"oja_distances_2.npy\", distances)"
   ]
  },
  {
   "cell_type": "code",
   "execution_count": null,
   "metadata": {},
   "outputs": [],
   "source": [
    "# ts = np.vstack(ts)\n",
    "# distances = np.vstack(Qs)\n",
    "\n",
    "ts = np.load(\"oja_ts.npy\")\n",
    "distances = np.load(\"oja_distances.npy\")\n",
    "\n",
    "ts_gan = np.vstack(ts_gan)\n",
    "distances_gan = np.vstack(Qs_gan)\n",
    "\n",
    "ts_gan_single = np.vstack(ts_gan_single)\n",
    "Qs_gan_single = np.vstack(Qs_gan_single)\n",
    "\n",
    "# np.save(\"oja_ts.npy\", ts)\n",
    "# np.save(\"oja_distances.npy\", distances)\n",
    "\n",
    "plt.locator_params(axis='y', nbins=6)\n",
    "plt.locator_params(axis='x', nbins=5)\n",
    "\n",
    "plt.tick_params(axis='both', which='major', labelsize=14)\n",
    "plt.tick_params(axis='both', which='minor', labelsize=14)\n",
    "\n",
    "plt.plot(ts, distances, label=\"Oja's\", linewidth=4.0)\n",
    "plt.plot(ts_gan, distances_gan, label=\"GAN Multi-feature\", linewidth=4.0)\n",
    "plt.plot(ts_gan_single, Qs_gan_single, label=\"GAN Single-feature\", linewidth=4.0)\n",
    "plt.legend(prop={'weight':'bold', 'size': 13})\n",
    "plt.show()"
   ]
  },
  {
   "cell_type": "code",
   "execution_count": null,
   "metadata": {},
   "outputs": [],
   "source": []
  }
 ],
 "metadata": {
  "kernelspec": {
   "display_name": "ldm",
   "language": "python",
   "name": "python3"
  },
  "language_info": {
   "codemirror_mode": {
    "name": "ipython",
    "version": 3
   },
   "file_extension": ".py",
   "mimetype": "text/x-python",
   "name": "python",
   "nbconvert_exporter": "python",
   "pygments_lexer": "ipython3",
   "version": "3.9.17"
  }
 },
 "nbformat": 4,
 "nbformat_minor": 2
}
